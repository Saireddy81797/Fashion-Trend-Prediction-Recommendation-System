{
 "cells": [
  {
   "cell_type": "code",
   "execution_count": 1,
   "id": "c22b62bf",
   "metadata": {},
   "outputs": [],
   "source": [
    "import pandas as pd\n",
    "import numpy as np\n",
    "\n",
    "np.random.seed(42)\n",
    "\n",
    "products = [f\"PROD{i:03}\" for i in range(1, 21)]\n",
    "categories = ['Shirt','Shoes','Bag','Jeans','Dress']\n",
    "users = [f\"USER{i:03}\" for i in range(1, 11)]\n",
    "\n",
    "data = []\n",
    "\n",
    "for user in users:\n",
    "    for product in products:\n",
    "        category = np.random.choice(categories)\n",
    "        description = f\"This is a {category} with unique style.\"\n",
    "        price = np.random.choice([499, 699, 999, 1299])\n",
    "        discount = np.random.choice([0, 10, 20])\n",
    "        rating = np.random.randint(1,6)\n",
    "        sales_last_month = np.random.randint(5,50)\n",
    "        data.append([user, product, category, description, price, discount, rating, sales_last_month])\n",
    "\n",
    "df = pd.DataFrame(data, columns=['user_id','product_id','category','description','price','discount','rating','sales_last_month'])\n",
    "df.to_csv(\"fashion_trend_data.csv\", index=False)\n"
   ]
  },
  {
   "cell_type": "code",
   "execution_count": null,
   "id": "c98a2b1d",
   "metadata": {},
   "outputs": [],
   "source": [
    "from sentence_transformers import SentenceTransformer\n",
    "\n",
    "model_embed = SentenceTransformer('all-MiniLM-L6-v2')\n",
    "df['desc_embed'] = df['description'].apply(lambda x: model_embed.encode(x))\n"
   ]
  },
  {
   "cell_type": "code",
   "execution_count": null,
   "id": "382e6a2c",
   "metadata": {},
   "outputs": [],
   "source": [
    "top_trending = df.groupby('product_id')['sales_last_month'].sum().sort_values(ascending=False).head(10)\n"
   ]
  },
  {
   "cell_type": "code",
   "execution_count": null,
   "id": "fd6e785f",
   "metadata": {},
   "outputs": [],
   "source": [
    "from lightfm import LightFM\n",
    "from lightfm.data import Dataset\n",
    "\n",
    "# Build interaction matrix\n",
    "dataset = Dataset()\n",
    "dataset.fit(df['user_id'], df['product_id'])\n",
    "(interactions, weights) = dataset.build_interactions([(row['user_id'], row['product_id'], row['rating']) for _, row in df.iterrows()])\n",
    "\n",
    "# Train LightFM model\n",
    "model = LightFM(loss='warp')\n",
    "model.fit(interactions, epochs=20, num_threads=2)\n"
   ]
  },
  {
   "cell_type": "code",
   "execution_count": null,
   "id": "133c2ee2",
   "metadata": {},
   "outputs": [],
   "source": [
    "def recommend_products(model, dataset, user_id, n=5):\n",
    "    n_users, n_items = interactions.shape\n",
    "    user_x = dataset.mapping()[0][user_id]\n",
    "    scores = model.predict(user_x, np.arange(n_items))\n",
    "    top_items = np.argsort(-scores)[:n]\n",
    "    id_map = {v:k for k,v in dataset.mapping()[2].items()}  # item mapping\n",
    "    return [id_map[i] for i in top_items]\n",
    "\n",
    "recommend_products(model, dataset, 'USER001')\n"
   ]
  },
  {
   "cell_type": "code",
   "execution_count": null,
   "id": "17e76a13",
   "metadata": {},
   "outputs": [],
   "source": []
  }
 ],
 "metadata": {
  "kernelspec": {
   "display_name": "Python 3 (ipykernel)",
   "language": "python",
   "name": "python3"
  },
  "language_info": {
   "codemirror_mode": {
    "name": "ipython",
    "version": 3
   },
   "file_extension": ".py",
   "mimetype": "text/x-python",
   "name": "python",
   "nbconvert_exporter": "python",
   "pygments_lexer": "ipython3",
   "version": "3.9.7"
  }
 },
 "nbformat": 4,
 "nbformat_minor": 5
}
