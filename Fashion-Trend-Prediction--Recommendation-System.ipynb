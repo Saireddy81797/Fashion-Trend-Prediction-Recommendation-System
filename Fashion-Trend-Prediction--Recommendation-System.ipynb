{
 "cells": [
  {
   "cell_type": "code",
   "execution_count": 2,
   "id": "7d6f04dc",
   "metadata": {},
   "outputs": [
    {
     "name": "stdout",
     "output_type": "stream",
     "text": [
      "CSV file created successfully!\n"
     ]
    }
   ],
   "source": [
    "import pandas as pd\n",
    "\n",
    "# Create a small demo dataset for Fashion Trend Prediction\n",
    "data = {\n",
    "    \"product_id\": [\n",
    "        \"PROD001\",\"PROD002\",\"PROD003\",\"PROD004\",\"PROD005\",\n",
    "        \"PROD006\",\"PROD007\",\"PROD008\",\"PROD009\",\"PROD010\",\n",
    "        \"PROD011\",\"PROD012\",\"PROD013\",\"PROD014\",\"PROD015\",\n",
    "        \"PROD016\",\"PROD017\",\"PROD018\",\"PROD019\",\"PROD020\",\n",
    "        \"PROD021\",\"PROD022\",\"PROD023\",\"PROD024\",\"PROD025\",\n",
    "        \"PROD026\",\"PROD027\",\"PROD028\",\"PROD029\",\"PROD030\"\n",
    "    ],\n",
    "    \"description\": [\n",
    "        \"Red cotton t-shirt with round neck\",\n",
    "        \"Blue denim jeans slim fit\",\n",
    "        \"Black leather jacket for men\",\n",
    "        \"White sneakers unisex\",\n",
    "        \"Green floral summer dress\",\n",
    "        \"Yellow polo shirt casual\",\n",
    "        \"Grey jogger pants men\",\n",
    "        \"Brown boots leather\",\n",
    "        \"Red hoodie with logo\",\n",
    "        \"Black skinny jeans women\",\n",
    "        \"Blue denim jacket unisex\",\n",
    "        \"White canvas shoes casual\",\n",
    "        \"Green cotton t-shirt\",\n",
    "        \"Beige chinos slim fit\",\n",
    "        \"Black bomber jacket\",\n",
    "        \"Red high-top sneakers\",\n",
    "        \"White linen shirt\",\n",
    "        \"Blue cargo pants\",\n",
    "        \"Black trench coat\",\n",
    "        \"Yellow running shoes\",\n",
    "        \"Purple printed t-shirt\",\n",
    "        \"Light blue denim shorts\",\n",
    "        \"Green raincoat\",\n",
    "        \"Black slip-on shoes\",\n",
    "        \"Orange summer tank top\",\n",
    "        \"Grey sweatpants men\",\n",
    "        \"Beige cardigan women\",\n",
    "        \"Red ballerina flats\",\n",
    "        \"Blue striped shirt\",\n",
    "        \"Black leggings women\"\n",
    "    ],\n",
    "    \"category\": [\n",
    "        \"Topwear\",\"Bottomwear\",\"Outerwear\",\"Shoes\",\"Topwear\",\n",
    "        \"Topwear\",\"Bottomwear\",\"Shoes\",\"Topwear\",\"Bottomwear\",\n",
    "        \"Outerwear\",\"Shoes\",\"Topwear\",\"Bottomwear\",\"Outerwear\",\n",
    "        \"Shoes\",\"Topwear\",\"Bottomwear\",\"Outerwear\",\"Shoes\",\n",
    "        \"Topwear\",\"Bottomwear\",\"Outerwear\",\"Shoes\",\"Topwear\",\n",
    "        \"Bottomwear\",\"Outerwear\",\"Shoes\",\"Topwear\",\"Bottomwear\"\n",
    "    ],\n",
    "    \"sales_last_month\": [\n",
    "        120,90,45,70,65,\n",
    "        80,50,35,95,60,\n",
    "        55,75,100,40,30,\n",
    "        65,85,45,25,55,\n",
    "        70,35,20,40,60,\n",
    "        50,30,45,75,55\n",
    "    ]\n",
    "}\n",
    "\n",
    "# Convert to DataFrame\n",
    "df = pd.DataFrame(data)\n",
    "\n",
    "# Save to CSV\n",
    "df.to_csv(\"fashion_trend_data_small.csv\", index=False)\n",
    "\n",
    "print(\"CSV file created successfully!\")\n"
   ]
  },
  {
   "cell_type": "code",
   "execution_count": 3,
   "id": "10ea0343",
   "metadata": {},
   "outputs": [
    {
     "data": {
      "text/html": [
       "<div>\n",
       "<style scoped>\n",
       "    .dataframe tbody tr th:only-of-type {\n",
       "        vertical-align: middle;\n",
       "    }\n",
       "\n",
       "    .dataframe tbody tr th {\n",
       "        vertical-align: top;\n",
       "    }\n",
       "\n",
       "    .dataframe thead th {\n",
       "        text-align: right;\n",
       "    }\n",
       "</style>\n",
       "<table border=\"1\" class=\"dataframe\">\n",
       "  <thead>\n",
       "    <tr style=\"text-align: right;\">\n",
       "      <th></th>\n",
       "      <th>product_id</th>\n",
       "      <th>description</th>\n",
       "      <th>category</th>\n",
       "      <th>sales_last_month</th>\n",
       "    </tr>\n",
       "  </thead>\n",
       "  <tbody>\n",
       "    <tr>\n",
       "      <th>0</th>\n",
       "      <td>PROD001</td>\n",
       "      <td>Red cotton t-shirt with round neck</td>\n",
       "      <td>Topwear</td>\n",
       "      <td>120</td>\n",
       "    </tr>\n",
       "    <tr>\n",
       "      <th>1</th>\n",
       "      <td>PROD002</td>\n",
       "      <td>Blue denim jeans slim fit</td>\n",
       "      <td>Bottomwear</td>\n",
       "      <td>90</td>\n",
       "    </tr>\n",
       "    <tr>\n",
       "      <th>2</th>\n",
       "      <td>PROD003</td>\n",
       "      <td>Black leather jacket for men</td>\n",
       "      <td>Outerwear</td>\n",
       "      <td>45</td>\n",
       "    </tr>\n",
       "    <tr>\n",
       "      <th>3</th>\n",
       "      <td>PROD004</td>\n",
       "      <td>White sneakers unisex</td>\n",
       "      <td>Shoes</td>\n",
       "      <td>70</td>\n",
       "    </tr>\n",
       "    <tr>\n",
       "      <th>4</th>\n",
       "      <td>PROD005</td>\n",
       "      <td>Green floral summer dress</td>\n",
       "      <td>Topwear</td>\n",
       "      <td>65</td>\n",
       "    </tr>\n",
       "  </tbody>\n",
       "</table>\n",
       "</div>"
      ],
      "text/plain": [
       "  product_id                         description    category  sales_last_month\n",
       "0    PROD001  Red cotton t-shirt with round neck     Topwear               120\n",
       "1    PROD002           Blue denim jeans slim fit  Bottomwear                90\n",
       "2    PROD003        Black leather jacket for men   Outerwear                45\n",
       "3    PROD004               White sneakers unisex       Shoes                70\n",
       "4    PROD005           Green floral summer dress     Topwear                65"
      ]
     },
     "execution_count": 3,
     "metadata": {},
     "output_type": "execute_result"
    }
   ],
   "source": [
    "df.head()\n"
   ]
  },
  {
   "cell_type": "code",
   "execution_count": 6,
   "id": "b0d150f6",
   "metadata": {},
   "outputs": [],
   "source": [
    "df = pd.read_csv(\"fashion_trend_data_small.csv\")\n"
   ]
  },
  {
   "cell_type": "code",
   "execution_count": 7,
   "id": "cfe2f97f",
   "metadata": {},
   "outputs": [
    {
     "data": {
      "text/html": [
       "<div>\n",
       "<style scoped>\n",
       "    .dataframe tbody tr th:only-of-type {\n",
       "        vertical-align: middle;\n",
       "    }\n",
       "\n",
       "    .dataframe tbody tr th {\n",
       "        vertical-align: top;\n",
       "    }\n",
       "\n",
       "    .dataframe thead th {\n",
       "        text-align: right;\n",
       "    }\n",
       "</style>\n",
       "<table border=\"1\" class=\"dataframe\">\n",
       "  <thead>\n",
       "    <tr style=\"text-align: right;\">\n",
       "      <th></th>\n",
       "      <th>product_id</th>\n",
       "      <th>description</th>\n",
       "      <th>category</th>\n",
       "      <th>sales_last_month</th>\n",
       "    </tr>\n",
       "  </thead>\n",
       "  <tbody>\n",
       "    <tr>\n",
       "      <th>0</th>\n",
       "      <td>PROD001</td>\n",
       "      <td>Red cotton t-shirt with round neck</td>\n",
       "      <td>Topwear</td>\n",
       "      <td>120</td>\n",
       "    </tr>\n",
       "    <tr>\n",
       "      <th>1</th>\n",
       "      <td>PROD002</td>\n",
       "      <td>Blue denim jeans slim fit</td>\n",
       "      <td>Bottomwear</td>\n",
       "      <td>90</td>\n",
       "    </tr>\n",
       "    <tr>\n",
       "      <th>2</th>\n",
       "      <td>PROD003</td>\n",
       "      <td>Black leather jacket for men</td>\n",
       "      <td>Outerwear</td>\n",
       "      <td>45</td>\n",
       "    </tr>\n",
       "    <tr>\n",
       "      <th>3</th>\n",
       "      <td>PROD004</td>\n",
       "      <td>White sneakers unisex</td>\n",
       "      <td>Shoes</td>\n",
       "      <td>70</td>\n",
       "    </tr>\n",
       "    <tr>\n",
       "      <th>4</th>\n",
       "      <td>PROD005</td>\n",
       "      <td>Green floral summer dress</td>\n",
       "      <td>Topwear</td>\n",
       "      <td>65</td>\n",
       "    </tr>\n",
       "  </tbody>\n",
       "</table>\n",
       "</div>"
      ],
      "text/plain": [
       "  product_id                         description    category  sales_last_month\n",
       "0    PROD001  Red cotton t-shirt with round neck     Topwear               120\n",
       "1    PROD002           Blue denim jeans slim fit  Bottomwear                90\n",
       "2    PROD003        Black leather jacket for men   Outerwear                45\n",
       "3    PROD004               White sneakers unisex       Shoes                70\n",
       "4    PROD005           Green floral summer dress     Topwear                65"
      ]
     },
     "execution_count": 7,
     "metadata": {},
     "output_type": "execute_result"
    }
   ],
   "source": [
    "# Check first 5 rows\n",
    "df.head()\n"
   ]
  },
  {
   "cell_type": "code",
   "execution_count": 8,
   "id": "1f740a49",
   "metadata": {},
   "outputs": [
    {
     "name": "stdout",
     "output_type": "stream",
     "text": [
      "<class 'pandas.core.frame.DataFrame'>\n",
      "RangeIndex: 30 entries, 0 to 29\n",
      "Data columns (total 4 columns):\n",
      " #   Column            Non-Null Count  Dtype \n",
      "---  ------            --------------  ----- \n",
      " 0   product_id        30 non-null     object\n",
      " 1   description       30 non-null     object\n",
      " 2   category          30 non-null     object\n",
      " 3   sales_last_month  30 non-null     int64 \n",
      "dtypes: int64(1), object(3)\n",
      "memory usage: 1.1+ KB\n"
     ]
    }
   ],
   "source": [
    "# Basic info: columns, data types, missing values\n",
    "df.info()\n"
   ]
  },
  {
   "cell_type": "code",
   "execution_count": 9,
   "id": "32feacf1",
   "metadata": {},
   "outputs": [
    {
     "data": {
      "text/html": [
       "<div>\n",
       "<style scoped>\n",
       "    .dataframe tbody tr th:only-of-type {\n",
       "        vertical-align: middle;\n",
       "    }\n",
       "\n",
       "    .dataframe tbody tr th {\n",
       "        vertical-align: top;\n",
       "    }\n",
       "\n",
       "    .dataframe thead th {\n",
       "        text-align: right;\n",
       "    }\n",
       "</style>\n",
       "<table border=\"1\" class=\"dataframe\">\n",
       "  <thead>\n",
       "    <tr style=\"text-align: right;\">\n",
       "      <th></th>\n",
       "      <th>sales_last_month</th>\n",
       "    </tr>\n",
       "  </thead>\n",
       "  <tbody>\n",
       "    <tr>\n",
       "      <th>count</th>\n",
       "      <td>30.000000</td>\n",
       "    </tr>\n",
       "    <tr>\n",
       "      <th>mean</th>\n",
       "      <td>58.833333</td>\n",
       "    </tr>\n",
       "    <tr>\n",
       "      <th>std</th>\n",
       "      <td>23.949780</td>\n",
       "    </tr>\n",
       "    <tr>\n",
       "      <th>min</th>\n",
       "      <td>20.000000</td>\n",
       "    </tr>\n",
       "    <tr>\n",
       "      <th>25%</th>\n",
       "      <td>41.250000</td>\n",
       "    </tr>\n",
       "    <tr>\n",
       "      <th>50%</th>\n",
       "      <td>55.000000</td>\n",
       "    </tr>\n",
       "    <tr>\n",
       "      <th>75%</th>\n",
       "      <td>73.750000</td>\n",
       "    </tr>\n",
       "    <tr>\n",
       "      <th>max</th>\n",
       "      <td>120.000000</td>\n",
       "    </tr>\n",
       "  </tbody>\n",
       "</table>\n",
       "</div>"
      ],
      "text/plain": [
       "       sales_last_month\n",
       "count         30.000000\n",
       "mean          58.833333\n",
       "std           23.949780\n",
       "min           20.000000\n",
       "25%           41.250000\n",
       "50%           55.000000\n",
       "75%           73.750000\n",
       "max          120.000000"
      ]
     },
     "execution_count": 9,
     "metadata": {},
     "output_type": "execute_result"
    }
   ],
   "source": [
    "# Summary statistics\n",
    "df.describe()\n"
   ]
  },
  {
   "cell_type": "code",
   "execution_count": 10,
   "id": "85ea5c4e",
   "metadata": {},
   "outputs": [
    {
     "data": {
      "text/plain": [
       "0"
      ]
     },
     "execution_count": 10,
     "metadata": {},
     "output_type": "execute_result"
    }
   ],
   "source": [
    "# Check if there are duplicates\n",
    "df.duplicated().sum()\n"
   ]
  },
  {
   "cell_type": "code",
   "execution_count": 11,
   "id": "5129d6d4",
   "metadata": {},
   "outputs": [
    {
     "name": "stdout",
     "output_type": "stream",
     "text": [
      "Top 10 Trending Products:\n",
      "product_id\n",
      "PROD001    120\n",
      "PROD013    100\n",
      "PROD009     95\n",
      "PROD002     90\n",
      "PROD017     85\n",
      "PROD006     80\n",
      "PROD012     75\n",
      "PROD029     75\n",
      "PROD004     70\n",
      "PROD021     70\n",
      "Name: sales_last_month, dtype: int64\n"
     ]
    }
   ],
   "source": [
    "# Top trending products by sales_last_month\n",
    "top_trending = (\n",
    "    df.groupby('product_id')['sales_last_month']\n",
    "    .sum()\n",
    "    .sort_values(ascending=False)\n",
    "    .head(10)\n",
    ")\n",
    "\n",
    "print(\"Top 10 Trending Products:\")\n",
    "print(top_trending)\n"
   ]
  },
  {
   "cell_type": "code",
   "execution_count": 12,
   "id": "1298d505",
   "metadata": {},
   "outputs": [],
   "source": [
    "from sklearn.feature_extraction.text import TfidfVectorizer\n",
    "from sklearn.metrics.pairwise import cosine_similarity\n",
    "\n",
    "# TF-IDF vectorizer on product descriptions\n",
    "tfidf = TfidfVectorizer(stop_words='english')\n",
    "tfidf_matrix = tfidf.fit_transform(df['description'])\n",
    "\n",
    "# Compute cosine similarity\n",
    "cosine_sim = cosine_similarity(tfidf_matrix, tfidf_matrix)\n",
    "\n",
    "# Create a mapping of product_id to index\n",
    "product_indices = pd.Series(df.index, index=df['product_id'])\n"
   ]
  },
  {
   "cell_type": "code",
   "execution_count": 13,
   "id": "a47e5d91",
   "metadata": {},
   "outputs": [],
   "source": [
    "def recommend_products(product_id, top_n=5):\n",
    "    idx = product_indices[product_id]\n",
    "    sim_scores = list(enumerate(cosine_sim[idx]))\n",
    "    sim_scores = sorted(sim_scores, key=lambda x: x[1], reverse=True)\n",
    "    sim_scores = sim_scores[1:top_n+1]  # skip the product itself\n",
    "    product_indices_list = [i[0] for i in sim_scores]\n",
    "    return df['product_id'].iloc[product_indices_list].tolist()\n"
   ]
  },
  {
   "cell_type": "code",
   "execution_count": 14,
   "id": "01992bc7",
   "metadata": {},
   "outputs": [
    {
     "data": {
      "image/png": "[encoded data removed]",
      "text/plain": [
       "<Figure size 720x360 with 1 Axes>"
      ]
     },
     "metadata": {
      "needs_background": "light"
     },
     "output_type": "display_data"
    }
   ],
   "source": [
    "import matplotlib.pyplot as plt\n",
    "import seaborn as sns\n",
    "\n",
    "plt.figure(figsize=(10,5))\n",
    "sns.barplot(x=top_trending.index, y=top_trending.values, palette='viridis')\n",
    "plt.title(\"Top 10 Trending Products\", fontsize=16)\n",
    "plt.ylabel(\"Sales Last Month\")\n",
    "plt.xlabel(\"Product ID\")\n",
    "plt.xticks(rotation=45)\n",
    "plt.show()\n"
   ]
  },
  {
   "cell_type": "code",
   "execution_count": 15,
   "id": "2c28474d",
   "metadata": {},
   "outputs": [
    {
     "data": {
      "image/png": "[encoded data removed]",
      "text/plain": [
       "<Figure size 576x288 with 1 Axes>"
      ]
     },
     "metadata": {
      "needs_background": "light"
     },
     "output_type": "display_data"
    }
   ],
   "source": [
    "category_sales = df.groupby('category')['sales_last_month'].sum().sort_values(ascending=False)\n",
    "\n",
    "plt.figure(figsize=(8,4))\n",
    "sns.barplot(x=category_sales.index, y=category_sales.values, palette='coolwarm')\n",
    "plt.title(\"Category-wise Sales\", fontsize=16)\n",
    "plt.ylabel(\"Total Sales Last Month\")\n",
    "plt.xlabel(\"Category\")\n",
    "plt.show()\n"
   ]
  },
  {
   "cell_type": "code",
   "execution_count": 16,
   "id": "3d4a9405",
   "metadata": {},
   "outputs": [
    {
     "data": {
      "image/png": "[encoded data removed]",
      "text/plain": [
       "<Figure size 576x288 with 1 Axes>"
      ]
     },
     "metadata": {
      "needs_background": "light"
     },
     "output_type": "display_data"
    }
   ],
   "source": [
    "plt.figure(figsize=(8,4))\n",
    "sns.histplot(df['sales_last_month'], bins=10, kde=True, color='green')\n",
    "plt.title(\"Sales Distribution\", fontsize=16)\n",
    "plt.xlabel(\"Sales Last Month\")\n",
    "plt.show()\n"
   ]
  },
  {
   "cell_type": "code",
   "execution_count": 17,
   "id": "bd728f71",
   "metadata": {},
   "outputs": [
    {
     "data": {
      "image/png": "[encoded data removed]",
      "text/plain": [
       "<Figure size 720x576 with 2 Axes>"
      ]
     },
     "metadata": {
      "needs_background": "light"
     },
     "output_type": "display_data"
    }
   ],
   "source": [
    "plt.figure(figsize=(10,8))\n",
    "sns.heatmap(cosine_sim, cmap='YlGnBu')\n",
    "plt.title(\"Product Similarity Heatmap\", fontsize=16)\n",
    "plt.show()\n"
   ]
  },
  {
   "cell_type": "code",
   "execution_count": null,
   "id": "36856df8",
   "metadata": {},
   "outputs": [],
   "source": []
  }
 ],
 "metadata": {
  "kernelspec": {
   "display_name": "Python 3 (ipykernel)",
   "language": "python",
   "name": "python3"
  },
  "language_info": {
   "codemirror_mode": {
    "name": "ipython",
    "version": 3
   },
   "file_extension": ".py",
   "mimetype": "text/x-python",
   "name": "python",
   "nbconvert_exporter": "python",
   "pygments_lexer": "ipython3",
   "version": "3.9.7"
  }
 },
 "nbformat": 4,
 "nbformat_minor": 5
}
