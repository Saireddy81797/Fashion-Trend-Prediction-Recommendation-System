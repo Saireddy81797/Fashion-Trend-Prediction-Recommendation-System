{
 "cells": [
  {
   "cell_type": "code",
   "execution_count": 1,
   "id": "df0cbc7c",
   "metadata": {},
   "outputs": [],
   "source": [
    "import pandas as pd\n",
    "import numpy as np\n",
    "\n",
    "np.random.seed(42)\n",
    "\n",
    "products = [f\"PROD{i:03}\" for i in range(1, 21)]\n",
    "categories = ['Shirt','Shoes','Bag','Jeans','Dress']\n",
    "users = [f\"USER{i:03}\" for i in range(1, 11)]\n",
    "\n",
    "data = []\n",
    "\n",
    "for user in users:\n",
    "    for product in products:\n",
    "        category = np.random.choice(categories)\n",
    "        description = f\"This is a {category} with unique style.\"\n",
    "        price = np.random.choice([499, 699, 999, 1299])\n",
    "        discount = np.random.choice([0, 10, 20])\n",
    "        rating = np.random.randint(1,6)\n",
    "        sales_last_month = np.random.randint(5,50)\n",
    "        data.append([user, product, category, description, price, discount, rating, sales_last_month])\n",
    "\n",
    "df = pd.DataFrame(data, columns=['user_id','product_id','category','description','price','discount','rating','sales_last_month'])\n",
    "df.to_csv(\"fashion_trend_data.csv\", index=False)\n"
   ]
  },
  {
   "cell_type": "code",
   "execution_count": 8,
   "id": "eca20cde",
   "metadata": {},
   "outputs": [],
   "source": [
    "from sklearn.feature_extraction.text import TfidfVectorizer\n",
    "from sklearn.metrics.pairwise import cosine_similarity\n",
    "import pandas as pd\n",
    "import numpy as np\n",
    "\n",
    "# Load dataset\n",
    "df = pd.read_csv(\"fashion_trend_data.csv\")\n",
    "\n",
    "# TF-IDF for descriptions\n",
    "vectorizer = TfidfVectorizer(max_features=50)\n",
    "tfidf_matrix = vectorizer.fit_transform(df['description'])\n"
   ]
  },
  {
   "cell_type": "code",
   "execution_count": 9,
   "id": "3bcea42b",
   "metadata": {},
   "outputs": [
    {
     "name": "stdout",
     "output_type": "stream",
     "text": [
      "Top Trending Products:\n",
      " product_id\n",
      "PROD009    363\n",
      "PROD018    337\n",
      "PROD020    328\n",
      "PROD006    323\n",
      "PROD002    323\n",
      "PROD004    322\n",
      "PROD007    298\n",
      "PROD008    295\n",
      "PROD019    294\n",
      "PROD005    287\n",
      "Name: sales_last_month, dtype: int64\n"
     ]
    }
   ],
   "source": [
    "top_trending = df.groupby('product_id')['sales_last_month'].sum().sort_values(ascending=False).head(10)\n",
    "print(\"Top Trending Products:\\n\", top_trending)\n"
   ]
  },
  {
   "cell_type": "code",
   "execution_count": 10,
   "id": "741c7925",
   "metadata": {},
   "outputs": [
    {
     "data": {
      "text/plain": [
       "array(['PROD003', 'PROD016', 'PROD016', 'PROD013', 'PROD014'],\n",
       "      dtype=object)"
      ]
     },
     "execution_count": 10,
     "metadata": {},
     "output_type": "execute_result"
    }
   ],
   "source": [
    "# Compute similarity\n",
    "similarity = cosine_similarity(tfidf_matrix)\n",
    "\n",
    "def recommend_products(product_id, top_n=5):\n",
    "    idx = df[df['product_id'] == product_id].index[0]\n",
    "    sim_scores = similarity[idx]\n",
    "    top_indices = np.argsort(-sim_scores)[1:top_n+1]\n",
    "    return df.iloc[top_indices]['product_id'].values\n",
    "\n",
    "# Example\n",
    "recommend_products('PROD001')\n"
   ]
  },
  {
   "cell_type": "code",
   "execution_count": null,
   "id": "a80014f9",
   "metadata": {},
   "outputs": [],
   "source": []
  }
 ],
 "metadata": {
  "kernelspec": {
   "display_name": "Python 3 (ipykernel)",
   "language": "python",
   "name": "python3"
  },
  "language_info": {
   "codemirror_mode": {
    "name": "ipython",
    "version": 3
   },
   "file_extension": ".py",
   "mimetype": "text/x-python",
   "name": "python",
   "nbconvert_exporter": "python",
   "pygments_lexer": "ipython3",
   "version": "3.9.7"
  }
 },
 "nbformat": 4,
 "nbformat_minor": 5
}
